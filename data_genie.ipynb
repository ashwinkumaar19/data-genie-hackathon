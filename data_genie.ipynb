{
  "nbformat": 4,
  "nbformat_minor": 0,
  "metadata": {
    "colab": {
      "provenance": []
    },
    "kernelspec": {
      "name": "python3",
      "display_name": "Python 3"
    },
    "language_info": {
      "name": "python"
    }
  },
  "cells": [
    {
      "cell_type": "code",
      "source": [
        "!pip install pmdarima"
      ],
      "metadata": {
        "id": "_gV3KFyEgMrs",
        "colab": {
          "base_uri": "https://localhost:8080/"
        },
        "outputId": "4500bad0-9dd9-4573-90b5-8a2b422f0ab9"
      },
      "execution_count": 2,
      "outputs": [
        {
          "output_type": "stream",
          "name": "stdout",
          "text": [
            "Looking in indexes: https://pypi.org/simple, https://us-python.pkg.dev/colab-wheels/public/simple/\n",
            "Requirement already satisfied: pmdarima in /usr/local/lib/python3.9/dist-packages (2.0.2)\n",
            "Requirement already satisfied: scikit-learn>=0.22 in /usr/local/lib/python3.9/dist-packages (from pmdarima) (1.2.1)\n",
            "Requirement already satisfied: scipy>=1.3.2 in /usr/local/lib/python3.9/dist-packages (from pmdarima) (1.10.1)\n",
            "Requirement already satisfied: setuptools!=50.0.0,>=38.6.0 in /usr/local/lib/python3.9/dist-packages (from pmdarima) (57.4.0)\n",
            "Requirement already satisfied: numpy>=1.21.2 in /usr/local/lib/python3.9/dist-packages (from pmdarima) (1.22.4)\n",
            "Requirement already satisfied: pandas>=0.19 in /usr/local/lib/python3.9/dist-packages (from pmdarima) (1.3.5)\n",
            "Requirement already satisfied: Cython!=0.29.18,!=0.29.31,>=0.29 in /usr/local/lib/python3.9/dist-packages (from pmdarima) (0.29.33)\n",
            "Requirement already satisfied: joblib>=0.11 in /usr/local/lib/python3.9/dist-packages (from pmdarima) (1.2.0)\n",
            "Requirement already satisfied: urllib3 in /usr/local/lib/python3.9/dist-packages (from pmdarima) (1.26.14)\n",
            "Requirement already satisfied: statsmodels>=0.13.2 in /usr/local/lib/python3.9/dist-packages (from pmdarima) (0.13.5)\n",
            "Requirement already satisfied: pytz>=2017.3 in /usr/local/lib/python3.9/dist-packages (from pandas>=0.19->pmdarima) (2022.7.1)\n",
            "Requirement already satisfied: python-dateutil>=2.7.3 in /usr/local/lib/python3.9/dist-packages (from pandas>=0.19->pmdarima) (2.8.2)\n",
            "Requirement already satisfied: threadpoolctl>=2.0.0 in /usr/local/lib/python3.9/dist-packages (from scikit-learn>=0.22->pmdarima) (3.1.0)\n",
            "Requirement already satisfied: packaging>=21.3 in /usr/local/lib/python3.9/dist-packages (from statsmodels>=0.13.2->pmdarima) (23.0)\n",
            "Requirement already satisfied: patsy>=0.5.2 in /usr/local/lib/python3.9/dist-packages (from statsmodels>=0.13.2->pmdarima) (0.5.3)\n",
            "Requirement already satisfied: six in /usr/local/lib/python3.9/dist-packages (from patsy>=0.5.2->statsmodels>=0.13.2->pmdarima) (1.15.0)\n"
          ]
        }
      ]
    },
    {
      "cell_type": "code",
      "source": [
        "from statsmodels.tsa.seasonal import seasonal_decompose\n",
        "from statsmodels.tsa.stattools import adfuller, acf\n",
        "\n",
        "from scipy.fft import fft\n",
        "from scipy import signal\n",
        "\n",
        "from sklearn.datasets import make_classification\n",
        "from sklearn.pipeline import Pipeline\n",
        "from sklearn.preprocessing import StandardScaler\n",
        "from sklearn.linear_model import LogisticRegression\n",
        "from sklearn.naive_bayes import MultinomialNB, GaussianNB\n",
        "from sklearn.tree import DecisionTreeClassifier\n",
        "from sklearn.ensemble import RandomForestClassifier, GradientBoostingClassifier, AdaBoostClassifier\n",
        "from sklearn.neighbors import KNeighborsClassifier\n",
        "from sklearn.svm import SVC\n",
        "from sklearn.neural_network import MLPClassifier\n",
        "from sklearn.metrics import f1_score, classification_report\n",
        "from sklearn.model_selection import train_test_split, GridSearchCV\n",
        "from sklearn.metrics import mean_absolute_percentage_error\n",
        "from sklearn.metrics import accuracy_score\n",
        "from sklearn import metrics\n",
        "\n",
        "\n",
        "from pmdarima.model_selection import train_test_split as time_train_test_split\n",
        "from pmdarima.arima import auto_arima\n",
        "import pmdarima as pm\n",
        "\n",
        "from imblearn.over_sampling import RandomOverSampler\n",
        "\n",
        "from prophet import Prophet\n",
        "\n",
        "from xgboost import XGBRegressor\n",
        "\n",
        "from google.colab import drive\n",
        "\n",
        "import pandas as pd\n",
        "import numpy as np\n",
        "\n",
        "import os\n",
        "\n",
        "import joblib\n",
        "\n",
        "import statsmodels.api as sm\n",
        "\n",
        "import warnings\n",
        "warnings.filterwarnings(\"ignore\")"
      ],
      "metadata": {
        "id": "J8NOo-ptfRCC"
      },
      "execution_count": 3,
      "outputs": []
    },
    {
      "cell_type": "markdown",
      "source": [
        "**UTILITY FUNCTION**"
      ],
      "metadata": {
        "id": "jMHgm_hwEXno"
      }
    },
    {
      "cell_type": "code",
      "source": [
        "def mean_absolute_percentage_error_func(y_true, y_pred):\n",
        "    y_true, y_pred = np.array(y_true), np.array(y_pred)\n",
        "    return np.mean(np.abs((y_true - y_pred) / y_true)) * 100"
      ],
      "metadata": {
        "id": "Unrfkjl49lCM"
      },
      "execution_count": 4,
      "outputs": []
    },
    {
      "cell_type": "code",
      "source": [
        "def mount_drive():\n",
        "  drive.mount('/content/drive')"
      ],
      "metadata": {
        "id": "iWnctQQqNfud"
      },
      "execution_count": 5,
      "outputs": []
    },
    {
      "cell_type": "code",
      "source": [
        "mount_drive()"
      ],
      "metadata": {
        "colab": {
          "base_uri": "https://localhost:8080/"
        },
        "id": "DOgK7EZ_yzZv",
        "outputId": "3803b848-53b6-434c-ddfc-c8e859918ffe"
      },
      "execution_count": 6,
      "outputs": [
        {
          "output_type": "stream",
          "name": "stdout",
          "text": [
            "Mounted at /content/drive\n"
          ]
        }
      ]
    },
    {
      "cell_type": "markdown",
      "source": [
        "**EXTRACT FEATURES FROM THE TIME SERIES DATASET**"
      ],
      "metadata": {
        "id": "0v15p8m_yQxD"
      }
    },
    {
      "cell_type": "code",
      "source": [
        "def get_features(df):\n",
        "  # Set date column as the index\n",
        "  df.set_index('ds', inplace=True)\n",
        "\n",
        "  # Extract time series features\n",
        "  features = pd.DataFrame()\n",
        "  features['mean'] = df.mean()\n",
        "  features['std'] = df.std()\n",
        "  features['min'] = df.min()\n",
        "  features['max'] = df.max()\n",
        "  features['median'] = df.median()\n",
        "  features['kurtosis'] = df.kurtosis()\n",
        "  features['skewness'] = df.skew()\n",
        "  features['quantile_25'] = df.quantile(q=0.25)\n",
        "  features['quantile_75'] = df.quantile(q=0.75)\n",
        "  features['range'] = df.max() - df.min()\n",
        "  features['interquartile_range'] = features['quantile_75'] - features['quantile_25']\n",
        "  features['variation_coefficient'] = features['std'] / features['mean']\n",
        "  \n",
        "  # Compute the autocorrelation score\n",
        "  '''acf_vals  = acf(df['y'], fft=True)\n",
        "  autocorr_score = max(acf_vals)\n",
        "  features['autocorr_score'] = autocorr_score\n",
        "  '''\n",
        "  lags = range(31)\n",
        "  autocorr = acf(df, nlags=30)\n",
        "  autocorr_score=np.abs(np.mean(autocorr))\n",
        "  features['autocorr_score'] = autocorr_score\n",
        "\n",
        "  # Identify and count outliers using the interquartile range (IQR) method\n",
        "  #q1 = df.quantile(0.25)\n",
        "  q1 = df['y'].quantile(0.25)\n",
        "  #q3 = df.quantile(0.75)\n",
        "  q3 = df['y'].quantile(0.75)\n",
        "  iqr = q3 - q1\n",
        "  outliers = ((df < (q1 - 1.5 * iqr)) | (df > (q3 + 1.5 * iqr))).sum(axis=1)\n",
        "  features['outliers'] = outliers\n",
        "\n",
        "  # Compute the stationarity score\n",
        "  adf_test = adfuller(df['y'])\n",
        "  stationarity_score = adf_test[1]\n",
        "  features['stationarity_score'] = stationarity_score\n",
        "\n",
        "  # Compute the spectral density score using Welch's method\n",
        "  freqs, psd = signal.welch(df['y'], nperseg=256)\n",
        "  spectral_density_score = np.sum(psd)\n",
        "  features['spectral_density_score'] = spectral_density_score\n",
        "\n",
        "  # Compute Noise score\n",
        "  window_size = 30\n",
        "  detrended = signal.detrend(df['y'], type='linear')\n",
        "  noise_variance = np.var(detrended)\n",
        "  residuals = df['y'] - detrended\n",
        "  noise_score = np.std(residuals)\n",
        "  features['noise_score'] = noise_score\n",
        "\n",
        "  # Extract seasonality, trend and residual components using seasonal_decompose\n",
        "  try:\n",
        "    result = seasonal_decompose(df, period = 12)\n",
        "    features['trend'] = result.trend.mean()\n",
        "    features['residual'] = result.resid.mean()\n",
        "    features['seasonality'] = result.seasonal.mean()\n",
        "  except:\n",
        "    features['seasonality'] = np.nan\n",
        "  \n",
        "  # Print extracted features\n",
        "  return features"
      ],
      "metadata": {
        "id": "Nmiy5CE3A9Ss"
      },
      "execution_count": 7,
      "outputs": []
    },
    {
      "cell_type": "markdown",
      "metadata": {
        "id": "nQEC2_SBA52x"
      },
      "source": [
        "**PROPHET MODEL**"
      ]
    },
    {
      "cell_type": "code",
      "execution_count": 8,
      "metadata": {
        "id": "kvdLba3fuZRU"
      },
      "outputs": [],
      "source": [
        "def fit_prophet(df):\n",
        "  df['ds'].dt.tz_localize(None)\n",
        "\n",
        "  # Split data into training and testing sets\n",
        "  train_data, test_data = train_test_split(df, test_size=0.2, random_state=42)\n",
        "\n",
        "  # Create a Prophet model instance and fit it to the training data\n",
        "  model = Prophet()\n",
        "  model.fit(train_data)\n",
        "\n",
        "  # Make predictions on the test set\n",
        "  future = model.make_future_dataframe(periods=len(test_data))\n",
        "  forecast = model.predict(future)\n",
        "  forecast = forecast[-len(test_data):] # Only keep the forecasted values for the test set\n",
        "\n",
        "  # Calculate MAPE\n",
        "  \n",
        "  mape = mean_absolute_percentage_error_func(np.array(test_data['y']), np.array(forecast['yhat']))\n",
        "\n",
        "  return mape"
      ]
    },
    {
      "cell_type": "markdown",
      "metadata": {
        "id": "3N2I1PFjyC_Y"
      },
      "source": [
        "**ETS MODEL**"
      ]
    },
    {
      "cell_type": "code",
      "execution_count": 9,
      "metadata": {
        "id": "85Iefm_G2jQG"
      },
      "outputs": [],
      "source": [
        "def fit_ets(df):\n",
        "  df.set_index('ds', inplace=True)\n",
        "\n",
        "\n",
        "  # Split data into train and test sets\n",
        "  train_data, test_data = train_test_split(df, test_size=0.2, random_state=42)\n",
        "\n",
        "  # fit the ETS model on the training data\n",
        "  model = sm.tsa.ExponentialSmoothing(train_data['y'], trend='add', seasonal='add', seasonal_periods=12).fit()\n",
        "\n",
        "  # make predictions on the test data\n",
        "  predictions = model.forecast(len(test_data))\n",
        "\n",
        "  mape = mean_absolute_percentage_error_func(np.array(test_data['y']), np.array(predictions))\n",
        "  \n",
        "  return mape"
      ]
    },
    {
      "cell_type": "markdown",
      "source": [
        "**ARIMA MODEL**"
      ],
      "metadata": {
        "id": "3iYg9_-eL5Z7"
      }
    },
    {
      "cell_type": "code",
      "source": [
        "def fit_ARIMA(df):\n",
        "  df.set_index('ds', inplace=True)\n",
        "  y = df['y'].values\n",
        "\n",
        "  train, test = train_test_split(y, test_size=0.2, shuffle=False)\n",
        "\n",
        "  arima_model = pm.auto_arima(train,    \n",
        "      seasonal=False,\n",
        "      suppress_warnings=True,\n",
        "      error_action='ignore',\n",
        "      start_p=0, d=None, start_q=0,\n",
        "      max_p=5, max_d=2, max_q=5,\n",
        "      test=\"adf\"\n",
        "  ) \n",
        "  \n",
        "  arima_model.fit(train)  \n",
        "  y_pred = arima_model.predict(n_periods=len(test))\n",
        "  \n",
        "  mape = mean_absolute_percentage_error_func(np.array(test), np.array(y_pred))\n",
        "\n",
        "  return mape"
      ],
      "metadata": {
        "id": "1e0l0-K2L7al"
      },
      "execution_count": 10,
      "outputs": []
    },
    {
      "cell_type": "markdown",
      "source": [
        "**XGBoost MODEL**"
      ],
      "metadata": {
        "id": "5ZZymJIMDm9J"
      }
    },
    {
      "cell_type": "code",
      "source": [
        "def create_features(df, target_variable):\n",
        "    df['date'] = df.index\n",
        "    df['hour'] = df['date'].dt.hour\n",
        "    df['dayofweek'] = df['date'].dt.dayofweek\n",
        "    df['quarter'] = df['date'].dt.quarter\n",
        "    df['month'] = df['date'].dt.month\n",
        "    df['year'] = df['date'].dt.year\n",
        "    df['dayofyear'] = df['date'].dt.dayofyear\n",
        "    df['dayofmonth'] = df['date'].dt.day\n",
        "    df['weekofyear'] = df['date'].dt.weekofyear\n",
        "    \n",
        "    X = df[['hour','dayofweek','quarter','month','year',\n",
        "           'dayofyear','dayofmonth','weekofyear']]\n",
        "    if target_variable:\n",
        "        y = df[target_variable]\n",
        "        return X, y\n",
        "    return X"
      ],
      "metadata": {
        "id": "QlFYkYCY9Y5X"
      },
      "execution_count": 11,
      "outputs": []
    },
    {
      "cell_type": "code",
      "execution_count": 12,
      "metadata": {
        "id": "nV-rCtRBANpw"
      },
      "outputs": [],
      "source": [
        "def fit_XGB(df):\n",
        "  # Make sure that you have the correct order of the times \n",
        "  df = df.sort_values(by='ds', ascending=True)\n",
        "\n",
        "  # Set Datetime as index\n",
        "  df = df.set_index('ds')\n",
        "\n",
        "  X = df['y']\n",
        "\n",
        "  # Test Size = 20%\n",
        "  train_df, test_df = time_train_test_split(X, test_size=int(len(df)*0.2))\n",
        "\n",
        "  train_df = pd.DataFrame(train_df)\n",
        "  test_df = pd.DataFrame(test_df)\n",
        "\n",
        "  train_df_copy = train_df.copy()\n",
        "  test_df_copy = test_df.copy()\n",
        "\n",
        "  trainX, trainY = create_features(train_df_copy, target_variable='y')\n",
        "  testX, testY = create_features(test_df_copy, target_variable='y')\n",
        "\n",
        "  xgb = XGBRegressor(objective= 'reg:linear', n_estimators=1000)\n",
        "\n",
        "  xgb.fit(trainX, trainY,\n",
        "          eval_set=[(trainX, trainY), (testX, testY)],\n",
        "          early_stopping_rounds=50,\n",
        "          verbose=False)\n",
        "  \n",
        "  predicted_results = xgb.predict(testX)\n",
        "  \n",
        "  return mean_absolute_percentage_error_func(testY, predicted_results)\n"
      ]
    },
    {
      "cell_type": "markdown",
      "source": [
        "**GET THE LABEL**"
      ],
      "metadata": {
        "id": "d3tr4JUCIOzk"
      }
    },
    {
      "cell_type": "code",
      "source": [
        "def get_label(df):\n",
        "  mape = []\n",
        "  \n",
        "  mape.append(fit_prophet(df.copy()))\n",
        "  mape.append(fit_ets(df.copy()))\n",
        "  mape.append(fit_XGB(df.copy()))\n",
        "  mape.append(fit_ARIMA(df.copy()))\n",
        "\n",
        "  print(mape)\n",
        "\n",
        "  return mape.index(min(mape))"
      ],
      "metadata": {
        "id": "UKtLkc6xFTKI"
      },
      "execution_count": 13,
      "outputs": []
    },
    {
      "cell_type": "code",
      "source": [
        "features_df = pd.DataFrame()\n",
        "labels_df = pd.Series()\n",
        "\n",
        "folder_path = '/content/drive/MyDrive/Time Series Data/'\n",
        "\n",
        "# Iterate through all files in the folder\n",
        "for file_name in os.listdir(folder_path):\n",
        "    # Check if file is a CSV file\n",
        "    if file_name.endswith('.csv'):\n",
        "        # Do something with the file\n",
        "        file_path = os.path.join(folder_path, file_name)\n",
        "        \n",
        "        print(file_path)\n",
        "\n",
        "        df = pd.read_csv(file_path)\n",
        "\n",
        "        if 'Unnamed: 0' in df.columns:\n",
        "          df = df.drop(columns = 'Unnamed: 0', axis = 1)\n",
        "\n",
        "\n",
        "        df.columns.values[0] = 'ds'\n",
        "        df.columns.values[1] = 'y'\n",
        "\n",
        "        print(df.head())\n",
        "\n",
        "        #Impute point_value\n",
        "        df['y'] = df['y'].fillna(df['y'].mean())\n",
        "        \n",
        "        features_df = pd.concat([features_df, get_features(df.copy())], ignore_index=True)\n",
        "\n",
        "        df['ds'] = pd.to_datetime(df['ds'])\n",
        "        df['ds'] = df['ds'].dt.tz_localize(None)\n",
        "\n",
        "        \n",
        "        t = get_label(df.copy())\n",
        "        print(\"----\", t)\n",
        "\n",
        "        labels_df = labels_df.append(pd.Series([t]))"
      ],
      "metadata": {
        "id": "MpLQMAyllyNo"
      },
      "execution_count": null,
      "outputs": []
    },
    {
      "cell_type": "code",
      "source": [
        "features_df.to_csv('features.csv')"
      ],
      "metadata": {
        "id": "QuONrQagh-Gr"
      },
      "execution_count": null,
      "outputs": []
    },
    {
      "cell_type": "code",
      "source": [
        "labels_df.to_csv('labels.csv')"
      ],
      "metadata": {
        "id": "Ingy6OAsiL4N"
      },
      "execution_count": null,
      "outputs": []
    },
    {
      "cell_type": "code",
      "source": [
        "features_df.head()"
      ],
      "metadata": {
        "colab": {
          "base_uri": "https://localhost:8080/",
          "height": 270
        },
        "id": "9gXAPISGh39e",
        "outputId": "d6bf22c8-f375-4a99-b77f-aaeaff568902"
      },
      "execution_count": null,
      "outputs": [
        {
          "output_type": "execute_result",
          "data": {
            "text/plain": [
              "            mean            std         min           max         median  \\\n",
              "0       0.080813       0.007967    0.058061  1.111919e-01       0.080898   \n",
              "1      49.848643       3.085998   43.146586  5.917162e+01      49.848643   \n",
              "2      78.977742       2.048750   73.599728  8.281616e+01      79.291599   \n",
              "3  456027.723629  216471.561459    1.000000  1.177448e+06  522566.000000   \n",
              "4     568.048860      57.713088  307.389626  1.531098e+03     568.048860   \n",
              "\n",
              "     kurtosis  skewness    quantile_25    quantile_75         range  \\\n",
              "0    0.104336  0.171542       0.075316       0.085777  5.313133e-02   \n",
              "1    2.137306  0.737816      48.329033      51.009674  1.602504e+01   \n",
              "2    0.313815 -0.785742      78.048408      80.359825  9.216432e+00   \n",
              "3   -0.789263 -0.460697  245346.000000  610860.000000  1.177447e+06   \n",
              "4  100.056566  6.395766     543.327542     585.242382  1.223709e+03   \n",
              "\n",
              "   interquartile_range  variation_coefficient  autocorr_score  outliers  \\\n",
              "0             0.010461               0.098582        0.167094       NaN   \n",
              "1             2.680641               0.061907        0.010795       NaN   \n",
              "2             2.311417               0.025941        0.331286       NaN   \n",
              "3        365514.000000               0.474689        0.033316       NaN   \n",
              "4            41.914840               0.101599        0.127311       NaN   \n",
              "\n",
              "   stationarity_score  spectral_density_score  noise_score          trend  \\\n",
              "0        5.674967e-11            1.594984e-02     0.000142       0.080858   \n",
              "1        9.476016e-04            4.483121e+02     0.011606      49.866497   \n",
              "2        3.052435e-01            5.705726e+02     0.865636      78.968035   \n",
              "3        1.327504e-06            1.219912e+13  6614.732967  457235.694720   \n",
              "4        2.505346e-03            6.830140e+05    16.104514     568.189593   \n",
              "\n",
              "     residual   seasonality  \n",
              "0    0.000005  2.606377e-06  \n",
              "1    0.069493  1.086313e-01  \n",
              "2    0.024176  2.548743e-03  \n",
              "3  535.452180  2.640457e+00  \n",
              "4    0.045114  1.879743e-16  "
            ],
            "text/html": [
              "\n",
              "  <div id=\"df-62f12370-51f6-421b-b4f3-2fda0b724031\">\n",
              "    <div class=\"colab-df-container\">\n",
              "      <div>\n",
              "<style scoped>\n",
              "    .dataframe tbody tr th:only-of-type {\n",
              "        vertical-align: middle;\n",
              "    }\n",
              "\n",
              "    .dataframe tbody tr th {\n",
              "        vertical-align: top;\n",
              "    }\n",
              "\n",
              "    .dataframe thead th {\n",
              "        text-align: right;\n",
              "    }\n",
              "</style>\n",
              "<table border=\"1\" class=\"dataframe\">\n",
              "  <thead>\n",
              "    <tr style=\"text-align: right;\">\n",
              "      <th></th>\n",
              "      <th>mean</th>\n",
              "      <th>std</th>\n",
              "      <th>min</th>\n",
              "      <th>max</th>\n",
              "      <th>median</th>\n",
              "      <th>kurtosis</th>\n",
              "      <th>skewness</th>\n",
              "      <th>quantile_25</th>\n",
              "      <th>quantile_75</th>\n",
              "      <th>range</th>\n",
              "      <th>interquartile_range</th>\n",
              "      <th>variation_coefficient</th>\n",
              "      <th>autocorr_score</th>\n",
              "      <th>outliers</th>\n",
              "      <th>stationarity_score</th>\n",
              "      <th>spectral_density_score</th>\n",
              "      <th>noise_score</th>\n",
              "      <th>trend</th>\n",
              "      <th>residual</th>\n",
              "      <th>seasonality</th>\n",
              "    </tr>\n",
              "  </thead>\n",
              "  <tbody>\n",
              "    <tr>\n",
              "      <th>0</th>\n",
              "      <td>0.080813</td>\n",
              "      <td>0.007967</td>\n",
              "      <td>0.058061</td>\n",
              "      <td>1.111919e-01</td>\n",
              "      <td>0.080898</td>\n",
              "      <td>0.104336</td>\n",
              "      <td>0.171542</td>\n",
              "      <td>0.075316</td>\n",
              "      <td>0.085777</td>\n",
              "      <td>5.313133e-02</td>\n",
              "      <td>0.010461</td>\n",
              "      <td>0.098582</td>\n",
              "      <td>0.167094</td>\n",
              "      <td>NaN</td>\n",
              "      <td>5.674967e-11</td>\n",
              "      <td>1.594984e-02</td>\n",
              "      <td>0.000142</td>\n",
              "      <td>0.080858</td>\n",
              "      <td>0.000005</td>\n",
              "      <td>2.606377e-06</td>\n",
              "    </tr>\n",
              "    <tr>\n",
              "      <th>1</th>\n",
              "      <td>49.848643</td>\n",
              "      <td>3.085998</td>\n",
              "      <td>43.146586</td>\n",
              "      <td>5.917162e+01</td>\n",
              "      <td>49.848643</td>\n",
              "      <td>2.137306</td>\n",
              "      <td>0.737816</td>\n",
              "      <td>48.329033</td>\n",
              "      <td>51.009674</td>\n",
              "      <td>1.602504e+01</td>\n",
              "      <td>2.680641</td>\n",
              "      <td>0.061907</td>\n",
              "      <td>0.010795</td>\n",
              "      <td>NaN</td>\n",
              "      <td>9.476016e-04</td>\n",
              "      <td>4.483121e+02</td>\n",
              "      <td>0.011606</td>\n",
              "      <td>49.866497</td>\n",
              "      <td>0.069493</td>\n",
              "      <td>1.086313e-01</td>\n",
              "    </tr>\n",
              "    <tr>\n",
              "      <th>2</th>\n",
              "      <td>78.977742</td>\n",
              "      <td>2.048750</td>\n",
              "      <td>73.599728</td>\n",
              "      <td>8.281616e+01</td>\n",
              "      <td>79.291599</td>\n",
              "      <td>0.313815</td>\n",
              "      <td>-0.785742</td>\n",
              "      <td>78.048408</td>\n",
              "      <td>80.359825</td>\n",
              "      <td>9.216432e+00</td>\n",
              "      <td>2.311417</td>\n",
              "      <td>0.025941</td>\n",
              "      <td>0.331286</td>\n",
              "      <td>NaN</td>\n",
              "      <td>3.052435e-01</td>\n",
              "      <td>5.705726e+02</td>\n",
              "      <td>0.865636</td>\n",
              "      <td>78.968035</td>\n",
              "      <td>0.024176</td>\n",
              "      <td>2.548743e-03</td>\n",
              "    </tr>\n",
              "    <tr>\n",
              "      <th>3</th>\n",
              "      <td>456027.723629</td>\n",
              "      <td>216471.561459</td>\n",
              "      <td>1.000000</td>\n",
              "      <td>1.177448e+06</td>\n",
              "      <td>522566.000000</td>\n",
              "      <td>-0.789263</td>\n",
              "      <td>-0.460697</td>\n",
              "      <td>245346.000000</td>\n",
              "      <td>610860.000000</td>\n",
              "      <td>1.177447e+06</td>\n",
              "      <td>365514.000000</td>\n",
              "      <td>0.474689</td>\n",
              "      <td>0.033316</td>\n",
              "      <td>NaN</td>\n",
              "      <td>1.327504e-06</td>\n",
              "      <td>1.219912e+13</td>\n",
              "      <td>6614.732967</td>\n",
              "      <td>457235.694720</td>\n",
              "      <td>535.452180</td>\n",
              "      <td>2.640457e+00</td>\n",
              "    </tr>\n",
              "    <tr>\n",
              "      <th>4</th>\n",
              "      <td>568.048860</td>\n",
              "      <td>57.713088</td>\n",
              "      <td>307.389626</td>\n",
              "      <td>1.531098e+03</td>\n",
              "      <td>568.048860</td>\n",
              "      <td>100.056566</td>\n",
              "      <td>6.395766</td>\n",
              "      <td>543.327542</td>\n",
              "      <td>585.242382</td>\n",
              "      <td>1.223709e+03</td>\n",
              "      <td>41.914840</td>\n",
              "      <td>0.101599</td>\n",
              "      <td>0.127311</td>\n",
              "      <td>NaN</td>\n",
              "      <td>2.505346e-03</td>\n",
              "      <td>6.830140e+05</td>\n",
              "      <td>16.104514</td>\n",
              "      <td>568.189593</td>\n",
              "      <td>0.045114</td>\n",
              "      <td>1.879743e-16</td>\n",
              "    </tr>\n",
              "  </tbody>\n",
              "</table>\n",
              "</div>\n",
              "      <button class=\"colab-df-convert\" onclick=\"convertToInteractive('df-62f12370-51f6-421b-b4f3-2fda0b724031')\"\n",
              "              title=\"Convert this dataframe to an interactive table.\"\n",
              "              style=\"display:none;\">\n",
              "        \n",
              "  <svg xmlns=\"http://www.w3.org/2000/svg\" height=\"24px\"viewBox=\"0 0 24 24\"\n",
              "       width=\"24px\">\n",
              "    <path d=\"M0 0h24v24H0V0z\" fill=\"none\"/>\n",
              "    <path d=\"M18.56 5.44l.94 2.06.94-2.06 2.06-.94-2.06-.94-.94-2.06-.94 2.06-2.06.94zm-11 1L8.5 8.5l.94-2.06 2.06-.94-2.06-.94L8.5 2.5l-.94 2.06-2.06.94zm10 10l.94 2.06.94-2.06 2.06-.94-2.06-.94-.94-2.06-.94 2.06-2.06.94z\"/><path d=\"M17.41 7.96l-1.37-1.37c-.4-.4-.92-.59-1.43-.59-.52 0-1.04.2-1.43.59L10.3 9.45l-7.72 7.72c-.78.78-.78 2.05 0 2.83L4 21.41c.39.39.9.59 1.41.59.51 0 1.02-.2 1.41-.59l7.78-7.78 2.81-2.81c.8-.78.8-2.07 0-2.86zM5.41 20L4 18.59l7.72-7.72 1.47 1.35L5.41 20z\"/>\n",
              "  </svg>\n",
              "      </button>\n",
              "      \n",
              "  <style>\n",
              "    .colab-df-container {\n",
              "      display:flex;\n",
              "      flex-wrap:wrap;\n",
              "      gap: 12px;\n",
              "    }\n",
              "\n",
              "    .colab-df-convert {\n",
              "      background-color: #E8F0FE;\n",
              "      border: none;\n",
              "      border-radius: 50%;\n",
              "      cursor: pointer;\n",
              "      display: none;\n",
              "      fill: #1967D2;\n",
              "      height: 32px;\n",
              "      padding: 0 0 0 0;\n",
              "      width: 32px;\n",
              "    }\n",
              "\n",
              "    .colab-df-convert:hover {\n",
              "      background-color: #E2EBFA;\n",
              "      box-shadow: 0px 1px 2px rgba(60, 64, 67, 0.3), 0px 1px 3px 1px rgba(60, 64, 67, 0.15);\n",
              "      fill: #174EA6;\n",
              "    }\n",
              "\n",
              "    [theme=dark] .colab-df-convert {\n",
              "      background-color: #3B4455;\n",
              "      fill: #D2E3FC;\n",
              "    }\n",
              "\n",
              "    [theme=dark] .colab-df-convert:hover {\n",
              "      background-color: #434B5C;\n",
              "      box-shadow: 0px 1px 3px 1px rgba(0, 0, 0, 0.15);\n",
              "      filter: drop-shadow(0px 1px 2px rgba(0, 0, 0, 0.3));\n",
              "      fill: #FFFFFF;\n",
              "    }\n",
              "  </style>\n",
              "\n",
              "      <script>\n",
              "        const buttonEl =\n",
              "          document.querySelector('#df-62f12370-51f6-421b-b4f3-2fda0b724031 button.colab-df-convert');\n",
              "        buttonEl.style.display =\n",
              "          google.colab.kernel.accessAllowed ? 'block' : 'none';\n",
              "\n",
              "        async function convertToInteractive(key) {\n",
              "          const element = document.querySelector('#df-62f12370-51f6-421b-b4f3-2fda0b724031');\n",
              "          const dataTable =\n",
              "            await google.colab.kernel.invokeFunction('convertToInteractive',\n",
              "                                                     [key], {});\n",
              "          if (!dataTable) return;\n",
              "\n",
              "          const docLinkHtml = 'Like what you see? Visit the ' +\n",
              "            '<a target=\"_blank\" href=https://colab.research.google.com/notebooks/data_table.ipynb>data table notebook</a>'\n",
              "            + ' to learn more about interactive tables.';\n",
              "          element.innerHTML = '';\n",
              "          dataTable['output_type'] = 'display_data';\n",
              "          await google.colab.output.renderOutput(dataTable, element);\n",
              "          const docLink = document.createElement('div');\n",
              "          docLink.innerHTML = docLinkHtml;\n",
              "          element.appendChild(docLink);\n",
              "        }\n",
              "      </script>\n",
              "    </div>\n",
              "  </div>\n",
              "  "
            ]
          },
          "metadata": {},
          "execution_count": 29
        }
      ]
    },
    {
      "cell_type": "markdown",
      "source": [
        "**TRAINING CLASSIFICATION MODEL**"
      ],
      "metadata": {
        "id": "su3dGFv3vc3y"
      }
    },
    {
      "cell_type": "code",
      "source": [
        "result = pd.read_csv('/content/drive/MyDrive/TSA FEATURE DATASET/final_dataset.csv')\n",
        "result = result.drop(columns = ['Unnamed: 0'], axis = 1)"
      ],
      "metadata": {
        "id": "RVhxQuOtvhAH"
      },
      "execution_count": 22,
      "outputs": []
    },
    {
      "cell_type": "code",
      "source": [
        "result.head()"
      ],
      "metadata": {
        "id": "0RUf7lGlvoku",
        "colab": {
          "base_uri": "https://localhost:8080/",
          "height": 299
        },
        "outputId": "3b808ca2-a7a9-4b05-e02d-f29def143867"
      },
      "execution_count": 15,
      "outputs": [
        {
          "output_type": "execute_result",
          "data": {
            "text/plain": [
              "            mean            std         min           max         median  \\\n",
              "0       0.080813       0.007967    0.058061  1.111919e-01       0.080898   \n",
              "1      49.848643       3.085998   43.146586  5.917162e+01      49.848643   \n",
              "2      78.977742       2.048750   73.599728  8.281616e+01      79.291599   \n",
              "3  456027.723600  216471.561500    1.000000  1.177448e+06  522566.000000   \n",
              "4     568.048861      57.713088  307.389626  1.531098e+03     568.048861   \n",
              "\n",
              "     kurtosis  skewness    quantile_25    quantile_75         range  ...  \\\n",
              "0    0.104336  0.171542       0.075316       0.085777  5.313133e-02  ...   \n",
              "1    2.137306  0.737816      48.329033      51.009674  1.602503e+01  ...   \n",
              "2    0.313815 -0.785742      78.048408      80.359825  9.216432e+00  ...   \n",
              "3   -0.789263 -0.460697  245346.000000  610860.000000  1.177447e+06  ...   \n",
              "4  100.056566  6.395766     543.327542     585.242382  1.223709e+03  ...   \n",
              "\n",
              "   variation_coefficient  autocorr_score  outliers  stationarity_score  \\\n",
              "0               0.098582        0.167094       NaN        5.670000e-11   \n",
              "1               0.061907        0.010795       NaN        9.476016e-04   \n",
              "2               0.025941        0.331286       NaN        3.052435e-01   \n",
              "3               0.474689        0.033316       NaN        1.330000e-06   \n",
              "4               0.101599        0.127311       NaN        2.505346e-03   \n",
              "\n",
              "   spectral_density_score  noise_score          trend    residual  \\\n",
              "0            1.594984e-02     0.000142       0.080858    0.000005   \n",
              "1            4.483121e+02     0.011606      49.866497    0.069493   \n",
              "2            5.705726e+02     0.865636      78.968035    0.024176   \n",
              "3            1.219912e+13  6614.732967  457235.694700  535.452180   \n",
              "4            6.830140e+05    16.104514     568.189593    0.045114   \n",
              "\n",
              "    seasonality  label  \n",
              "0  2.610000e-06      1  \n",
              "1  1.086313e-01      2  \n",
              "2  2.548743e-03      2  \n",
              "3  2.640457e+00      1  \n",
              "4  1.880000e-16      1  \n",
              "\n",
              "[5 rows x 21 columns]"
            ],
            "text/html": [
              "\n",
              "  <div id=\"df-2cb788dd-ce07-4cde-8c8d-328827db2c12\">\n",
              "    <div class=\"colab-df-container\">\n",
              "      <div>\n",
              "<style scoped>\n",
              "    .dataframe tbody tr th:only-of-type {\n",
              "        vertical-align: middle;\n",
              "    }\n",
              "\n",
              "    .dataframe tbody tr th {\n",
              "        vertical-align: top;\n",
              "    }\n",
              "\n",
              "    .dataframe thead th {\n",
              "        text-align: right;\n",
              "    }\n",
              "</style>\n",
              "<table border=\"1\" class=\"dataframe\">\n",
              "  <thead>\n",
              "    <tr style=\"text-align: right;\">\n",
              "      <th></th>\n",
              "      <th>mean</th>\n",
              "      <th>std</th>\n",
              "      <th>min</th>\n",
              "      <th>max</th>\n",
              "      <th>median</th>\n",
              "      <th>kurtosis</th>\n",
              "      <th>skewness</th>\n",
              "      <th>quantile_25</th>\n",
              "      <th>quantile_75</th>\n",
              "      <th>range</th>\n",
              "      <th>...</th>\n",
              "      <th>variation_coefficient</th>\n",
              "      <th>autocorr_score</th>\n",
              "      <th>outliers</th>\n",
              "      <th>stationarity_score</th>\n",
              "      <th>spectral_density_score</th>\n",
              "      <th>noise_score</th>\n",
              "      <th>trend</th>\n",
              "      <th>residual</th>\n",
              "      <th>seasonality</th>\n",
              "      <th>label</th>\n",
              "    </tr>\n",
              "  </thead>\n",
              "  <tbody>\n",
              "    <tr>\n",
              "      <th>0</th>\n",
              "      <td>0.080813</td>\n",
              "      <td>0.007967</td>\n",
              "      <td>0.058061</td>\n",
              "      <td>1.111919e-01</td>\n",
              "      <td>0.080898</td>\n",
              "      <td>0.104336</td>\n",
              "      <td>0.171542</td>\n",
              "      <td>0.075316</td>\n",
              "      <td>0.085777</td>\n",
              "      <td>5.313133e-02</td>\n",
              "      <td>...</td>\n",
              "      <td>0.098582</td>\n",
              "      <td>0.167094</td>\n",
              "      <td>NaN</td>\n",
              "      <td>5.670000e-11</td>\n",
              "      <td>1.594984e-02</td>\n",
              "      <td>0.000142</td>\n",
              "      <td>0.080858</td>\n",
              "      <td>0.000005</td>\n",
              "      <td>2.610000e-06</td>\n",
              "      <td>1</td>\n",
              "    </tr>\n",
              "    <tr>\n",
              "      <th>1</th>\n",
              "      <td>49.848643</td>\n",
              "      <td>3.085998</td>\n",
              "      <td>43.146586</td>\n",
              "      <td>5.917162e+01</td>\n",
              "      <td>49.848643</td>\n",
              "      <td>2.137306</td>\n",
              "      <td>0.737816</td>\n",
              "      <td>48.329033</td>\n",
              "      <td>51.009674</td>\n",
              "      <td>1.602503e+01</td>\n",
              "      <td>...</td>\n",
              "      <td>0.061907</td>\n",
              "      <td>0.010795</td>\n",
              "      <td>NaN</td>\n",
              "      <td>9.476016e-04</td>\n",
              "      <td>4.483121e+02</td>\n",
              "      <td>0.011606</td>\n",
              "      <td>49.866497</td>\n",
              "      <td>0.069493</td>\n",
              "      <td>1.086313e-01</td>\n",
              "      <td>2</td>\n",
              "    </tr>\n",
              "    <tr>\n",
              "      <th>2</th>\n",
              "      <td>78.977742</td>\n",
              "      <td>2.048750</td>\n",
              "      <td>73.599728</td>\n",
              "      <td>8.281616e+01</td>\n",
              "      <td>79.291599</td>\n",
              "      <td>0.313815</td>\n",
              "      <td>-0.785742</td>\n",
              "      <td>78.048408</td>\n",
              "      <td>80.359825</td>\n",
              "      <td>9.216432e+00</td>\n",
              "      <td>...</td>\n",
              "      <td>0.025941</td>\n",
              "      <td>0.331286</td>\n",
              "      <td>NaN</td>\n",
              "      <td>3.052435e-01</td>\n",
              "      <td>5.705726e+02</td>\n",
              "      <td>0.865636</td>\n",
              "      <td>78.968035</td>\n",
              "      <td>0.024176</td>\n",
              "      <td>2.548743e-03</td>\n",
              "      <td>2</td>\n",
              "    </tr>\n",
              "    <tr>\n",
              "      <th>3</th>\n",
              "      <td>456027.723600</td>\n",
              "      <td>216471.561500</td>\n",
              "      <td>1.000000</td>\n",
              "      <td>1.177448e+06</td>\n",
              "      <td>522566.000000</td>\n",
              "      <td>-0.789263</td>\n",
              "      <td>-0.460697</td>\n",
              "      <td>245346.000000</td>\n",
              "      <td>610860.000000</td>\n",
              "      <td>1.177447e+06</td>\n",
              "      <td>...</td>\n",
              "      <td>0.474689</td>\n",
              "      <td>0.033316</td>\n",
              "      <td>NaN</td>\n",
              "      <td>1.330000e-06</td>\n",
              "      <td>1.219912e+13</td>\n",
              "      <td>6614.732967</td>\n",
              "      <td>457235.694700</td>\n",
              "      <td>535.452180</td>\n",
              "      <td>2.640457e+00</td>\n",
              "      <td>1</td>\n",
              "    </tr>\n",
              "    <tr>\n",
              "      <th>4</th>\n",
              "      <td>568.048861</td>\n",
              "      <td>57.713088</td>\n",
              "      <td>307.389626</td>\n",
              "      <td>1.531098e+03</td>\n",
              "      <td>568.048861</td>\n",
              "      <td>100.056566</td>\n",
              "      <td>6.395766</td>\n",
              "      <td>543.327542</td>\n",
              "      <td>585.242382</td>\n",
              "      <td>1.223709e+03</td>\n",
              "      <td>...</td>\n",
              "      <td>0.101599</td>\n",
              "      <td>0.127311</td>\n",
              "      <td>NaN</td>\n",
              "      <td>2.505346e-03</td>\n",
              "      <td>6.830140e+05</td>\n",
              "      <td>16.104514</td>\n",
              "      <td>568.189593</td>\n",
              "      <td>0.045114</td>\n",
              "      <td>1.880000e-16</td>\n",
              "      <td>1</td>\n",
              "    </tr>\n",
              "  </tbody>\n",
              "</table>\n",
              "<p>5 rows × 21 columns</p>\n",
              "</div>\n",
              "      <button class=\"colab-df-convert\" onclick=\"convertToInteractive('df-2cb788dd-ce07-4cde-8c8d-328827db2c12')\"\n",
              "              title=\"Convert this dataframe to an interactive table.\"\n",
              "              style=\"display:none;\">\n",
              "        \n",
              "  <svg xmlns=\"http://www.w3.org/2000/svg\" height=\"24px\"viewBox=\"0 0 24 24\"\n",
              "       width=\"24px\">\n",
              "    <path d=\"M0 0h24v24H0V0z\" fill=\"none\"/>\n",
              "    <path d=\"M18.56 5.44l.94 2.06.94-2.06 2.06-.94-2.06-.94-.94-2.06-.94 2.06-2.06.94zm-11 1L8.5 8.5l.94-2.06 2.06-.94-2.06-.94L8.5 2.5l-.94 2.06-2.06.94zm10 10l.94 2.06.94-2.06 2.06-.94-2.06-.94-.94-2.06-.94 2.06-2.06.94z\"/><path d=\"M17.41 7.96l-1.37-1.37c-.4-.4-.92-.59-1.43-.59-.52 0-1.04.2-1.43.59L10.3 9.45l-7.72 7.72c-.78.78-.78 2.05 0 2.83L4 21.41c.39.39.9.59 1.41.59.51 0 1.02-.2 1.41-.59l7.78-7.78 2.81-2.81c.8-.78.8-2.07 0-2.86zM5.41 20L4 18.59l7.72-7.72 1.47 1.35L5.41 20z\"/>\n",
              "  </svg>\n",
              "      </button>\n",
              "      \n",
              "  <style>\n",
              "    .colab-df-container {\n",
              "      display:flex;\n",
              "      flex-wrap:wrap;\n",
              "      gap: 12px;\n",
              "    }\n",
              "\n",
              "    .colab-df-convert {\n",
              "      background-color: #E8F0FE;\n",
              "      border: none;\n",
              "      border-radius: 50%;\n",
              "      cursor: pointer;\n",
              "      display: none;\n",
              "      fill: #1967D2;\n",
              "      height: 32px;\n",
              "      padding: 0 0 0 0;\n",
              "      width: 32px;\n",
              "    }\n",
              "\n",
              "    .colab-df-convert:hover {\n",
              "      background-color: #E2EBFA;\n",
              "      box-shadow: 0px 1px 2px rgba(60, 64, 67, 0.3), 0px 1px 3px 1px rgba(60, 64, 67, 0.15);\n",
              "      fill: #174EA6;\n",
              "    }\n",
              "\n",
              "    [theme=dark] .colab-df-convert {\n",
              "      background-color: #3B4455;\n",
              "      fill: #D2E3FC;\n",
              "    }\n",
              "\n",
              "    [theme=dark] .colab-df-convert:hover {\n",
              "      background-color: #434B5C;\n",
              "      box-shadow: 0px 1px 3px 1px rgba(0, 0, 0, 0.15);\n",
              "      filter: drop-shadow(0px 1px 2px rgba(0, 0, 0, 0.3));\n",
              "      fill: #FFFFFF;\n",
              "    }\n",
              "  </style>\n",
              "\n",
              "      <script>\n",
              "        const buttonEl =\n",
              "          document.querySelector('#df-2cb788dd-ce07-4cde-8c8d-328827db2c12 button.colab-df-convert');\n",
              "        buttonEl.style.display =\n",
              "          google.colab.kernel.accessAllowed ? 'block' : 'none';\n",
              "\n",
              "        async function convertToInteractive(key) {\n",
              "          const element = document.querySelector('#df-2cb788dd-ce07-4cde-8c8d-328827db2c12');\n",
              "          const dataTable =\n",
              "            await google.colab.kernel.invokeFunction('convertToInteractive',\n",
              "                                                     [key], {});\n",
              "          if (!dataTable) return;\n",
              "\n",
              "          const docLinkHtml = 'Like what you see? Visit the ' +\n",
              "            '<a target=\"_blank\" href=https://colab.research.google.com/notebooks/data_table.ipynb>data table notebook</a>'\n",
              "            + ' to learn more about interactive tables.';\n",
              "          element.innerHTML = '';\n",
              "          dataTable['output_type'] = 'display_data';\n",
              "          await google.colab.output.renderOutput(dataTable, element);\n",
              "          const docLink = document.createElement('div');\n",
              "          docLink.innerHTML = docLinkHtml;\n",
              "          element.appendChild(docLink);\n",
              "        }\n",
              "      </script>\n",
              "    </div>\n",
              "  </div>\n",
              "  "
            ]
          },
          "metadata": {},
          "execution_count": 15
        }
      ]
    },
    {
      "cell_type": "code",
      "source": [
        "result = result.drop(columns = ['mean', 'std', 'min', 'max', 'median', 'kurtosis', 'skewness', 'quantile_25', 'quantile_75', 'range', 'interquartile_range', 'variation_coefficient'])"
      ],
      "metadata": {
        "id": "59T_SM0Al5Ja"
      },
      "execution_count": 23,
      "outputs": []
    },
    {
      "cell_type": "code",
      "source": [
        "# get the count of each label\n",
        "result['label'].value_counts()"
      ],
      "metadata": {
        "colab": {
          "base_uri": "https://localhost:8080/"
        },
        "id": "KwgptA9u2U3k",
        "outputId": "00772995-cc6c-431a-9169-58aa5711f55d"
      },
      "execution_count": 17,
      "outputs": [
        {
          "output_type": "execute_result",
          "data": {
            "text/plain": [
              "2    26\n",
              "1    11\n",
              "3    10\n",
              "0     7\n",
              "Name: label, dtype: int64"
            ]
          },
          "metadata": {},
          "execution_count": 17
        }
      ]
    },
    {
      "cell_type": "code",
      "source": [
        "import pandas as pd\n",
        "from sklearn.pipeline import Pipeline\n",
        "from sklearn.impute import SimpleImputer\n",
        "from sklearn.preprocessing import MinMaxScaler\n",
        "\n",
        "def clean_data(X):\n",
        "  # remove features that have all NaN values\n",
        "  X = X.dropna(axis='columns', how='all')\n",
        "\n",
        "  # create a pipeline to impute missing values with the mean and apply standard scaling\n",
        "  num_pipeline = Pipeline([\n",
        "      ('imputer', SimpleImputer(strategy='mean')),\n",
        "      ('scaler', MinMaxScaler())\n",
        "  ])\n",
        "\n",
        "  # fit_transform the pipeline on the dataset\n",
        "  X_transformed = num_pipeline.fit_transform(X)\n",
        "\n",
        "  return X_transformed"
      ],
      "metadata": {
        "id": "vMUE9gH7jvfc"
      },
      "execution_count": 24,
      "outputs": []
    },
    {
      "cell_type": "code",
      "source": [
        "X_transformed = clean_data(result.drop(columns = ['label'], axis = 1))\n",
        "\n",
        "y = result['label']\n",
        "\n",
        "# Split data into training and testing sets\n",
        "X_train, X_test, y_train, y_test = train_test_split(X_transformed, y, test_size=0.2, random_state=42)\n",
        "\n",
        "# Create an instance of the RandomOverSampler class\n",
        "ros = RandomOverSampler()\n",
        "\n",
        "# Resample the training data\n",
        "X_train_resampled, y_train_resampled = ros.fit_resample(X_train, y_train)\n",
        "\n",
        "# Define classification models\n",
        "models = [\n",
        "    ('Random Forest', RandomForestClassifier()),\n",
        "    ('AdaBoost', AdaBoostClassifier()),\n",
        "    ('Gradient Boosting', GradientBoostingClassifier()),\n",
        "    ('Logistic Regression', LogisticRegression()),\n",
        "    ('Gaussian Naive Bayes', GaussianNB()),\n",
        "    ('Decision Tree', DecisionTreeClassifier()),\n",
        "    ('K-Nearest Neighbors', KNeighborsClassifier()),\n",
        "    ('Multi-layer Perceptron', MLPClassifier()),\n",
        "    ('Support Vector Machine', SVC())\n",
        "]\n",
        "\n",
        "# Define hyperparameters for each model\n",
        "params = [\n",
        "    {'n_estimators': [100, 500, 1000], 'max_depth': [5, 10, 20], 'min_samples_leaf': [1, 5, 10]},\n",
        "    {'n_estimators': [100, 500, 1000], 'learning_rate': [0.1, 0.5, 1]},\n",
        "    {'n_estimators': [100, 500, 1000], 'learning_rate': [0.1, 0.5, 1], 'max_depth': [3, 5, 10]},\n",
        "    {'C': [0.1, 1, 10], 'penalty': ['l1', 'l2']},\n",
        "    {},\n",
        "    {'max_depth': [5, 10, 20], 'min_samples_leaf': [1, 5, 10]},\n",
        "    {'n_neighbors': [3, 5, 7], 'weights': ['uniform', 'distance']},\n",
        "    {'hidden_layer_sizes': [(100,), (100, 100), (100, 100, 100)], 'activation': ['relu', 'tanh']},\n",
        "    {'C': [0.1, 1, 10], 'kernel': ['linear', 'rbf']}\n",
        "]\n",
        "\n",
        "# Fit models and apply hyperparameter tuning\n",
        "best_model = None\n",
        "best_score = 0\n",
        "\n",
        "i = 0\n",
        "for name, model in models:\n",
        "    grid = GridSearchCV(model, param_grid=params[i], scoring='accuracy', cv=5, n_jobs=-1)\n",
        "    grid.fit(X_train_resampled, y_train_resampled)\n",
        "    score = grid.best_score_\n",
        "    if score > best_score:\n",
        "        best_score = score\n",
        "        best_model = grid.best_estimator_\n",
        "    print(f\"{grid.best_estimator_} Accuracy: {accuracy_score(y_test, grid.predict(X_test))}\")\n",
        "    i += 1\n",
        "    \n",
        "print(f\"\\nBest Model: {best_model}\")\n"
      ],
      "metadata": {
        "colab": {
          "base_uri": "https://localhost:8080/"
        },
        "id": "WfTd1mfc9qKZ",
        "outputId": "1a0569aa-ab6f-4c8c-db58-1135736ad7c0"
      },
      "execution_count": null,
      "outputs": [
        {
          "output_type": "stream",
          "name": "stdout",
          "text": [
            "RandomForestClassifier(max_depth=20) Accuracy: 0.45454545454545453\n",
            "AdaBoostClassifier(learning_rate=0.5, n_estimators=500) Accuracy: 0.5454545454545454\n",
            "GradientBoostingClassifier(learning_rate=1, n_estimators=1000) Accuracy: 0.36363636363636365\n",
            "LogisticRegression(C=10) Accuracy: 0.36363636363636365\n",
            "GaussianNB() Accuracy: 0.09090909090909091\n",
            "DecisionTreeClassifier(max_depth=20) Accuracy: 0.5454545454545454\n",
            "KNeighborsClassifier(n_neighbors=3, weights='distance') Accuracy: 0.2727272727272727\n",
            "MLPClassifier(hidden_layer_sizes=(100, 100)) Accuracy: 0.36363636363636365\n",
            "SVC(C=10) Accuracy: 0.2727272727272727\n",
            "\n",
            "Best Model: RandomForestClassifier(max_depth=20)\n"
          ]
        }
      ]
    },
    {
      "cell_type": "code",
      "source": [
        "X_transformed = clean_data(result.drop(columns = ['label'], axis = 1))\n",
        "\n",
        "y = result['label']\n",
        "\n",
        "# split the dataset into training and testing sets\n",
        "X_train, X_test, y_train, y_test = train_test_split(X_transformed, y, test_size=0.3, random_state=42)\n",
        "\n",
        "# Create an instance of the RandomOverSampler class\n",
        "ros = RandomOverSampler()\n",
        "\n",
        "# Resample the training data\n",
        "X_train_resampled, y_train_resampled = ros.fit_resample(X_train, y_train)\n",
        "\n",
        "# define a list of classifiers to evaluate\n",
        "classifiers = [\n",
        "    LogisticRegression(),\n",
        "    MultinomialNB(),\n",
        "    DecisionTreeClassifier(),\n",
        "    RandomForestClassifier(),\n",
        "    GradientBoostingClassifier(),\n",
        "    KNeighborsClassifier(),\n",
        "    MLPClassifier(),\n",
        "    SVC()\n",
        "]\n",
        "\n",
        "\n",
        "# define an empty dictionary to store the accuracy scores of each classifier\n",
        "best_score = 0\n",
        "best_model = None\n",
        "\n",
        "# fit each classifier and store its accuracy score\n",
        "for clf in classifiers:\n",
        "    # fit the pipeline on the training data\n",
        "    clf.fit(X_train_resampled, y_train_resampled)\n",
        "    \n",
        "    # make predictions on the test data\n",
        "    y_pred = clf.predict(X_test)\n",
        "    \n",
        "    # calculate the accuracy score and store it in the dictionary\n",
        "    model_accuracy_score = accuracy_score(y_test, y_pred)\n",
        "\n",
        "    if(best_score <= model_accuracy_score):\n",
        "      best_score = model_accuracy_score\n",
        "      best_model = clf\n",
        "\n",
        "    print(str(clf), model_accuracy_score)\n",
        "\n",
        "# print the best classifier\n",
        "print(f\"\\nThe best classifier is {best_model} with an accuracy score of {best_score}\")"
      ],
      "metadata": {
        "colab": {
          "base_uri": "https://localhost:8080/"
        },
        "id": "qLhXNt1_mm71",
        "outputId": "9a4cab67-11fe-4393-a198-63448520e97d"
      },
      "execution_count": 31,
      "outputs": [
        {
          "output_type": "stream",
          "name": "stdout",
          "text": [
            "LogisticRegression() 0.29411764705882354\n",
            "MultinomialNB() 0.35294117647058826\n",
            "DecisionTreeClassifier() 0.5294117647058824\n",
            "RandomForestClassifier() 0.5882352941176471\n",
            "GradientBoostingClassifier() 0.5294117647058824\n",
            "KNeighborsClassifier() 0.47058823529411764\n",
            "MLPClassifier() 0.4117647058823529\n",
            "SVC() 0.4117647058823529\n",
            "\n",
            "The best classifier is RandomForestClassifier() with an accuracy score of 0.5882352941176471\n"
          ]
        }
      ]
    },
    {
      "cell_type": "code",
      "source": [
        "model_list = [\n",
        "    fit_prophet,\n",
        "    fit_ets,\n",
        "    fit_XGB,\n",
        "    fit_ARIMA\n",
        "]\n",
        "\n",
        "df = pd.read_csv(\"/content/drive/MyDrive/Time Series Data/sample (26).csv\")\n",
        "\n",
        "if 'Unnamed: 0' in df.columns:\n",
        "          df = df.drop(columns = 'Unnamed: 0', axis = 1)\n",
        "\n",
        "\n",
        "df.columns.values[0] = 'ds'\n",
        "df.columns.values[1] = 'y'\n",
        "\n",
        "#Impute point_value\n",
        "df['y'] = df['y'].fillna(df['y'].mean())\n",
        "\n",
        "feature_df = get_features(df.copy())\n",
        "feature_df = feature_df.drop(columns = ['mean', 'std', 'min', 'max', 'median', 'kurtosis', 'skewness', 'quantile_25', 'quantile_75', 'range', 'interquartile_range', 'variation_coefficient'])\n",
        "print(feature_df)\n",
        "\n",
        "feature_df = clean_data(feature_df)\n",
        "\n",
        "df['ds'] = pd.to_datetime(df['ds'])\n",
        "df['ds'] = df['ds'].dt.tz_localize(None)\n",
        "\n",
        "print(\"0\", fit_prophet(df.copy()))\n",
        "print(\"1\", fit_ets(df.copy()))\n",
        "print(\"2\", fit_XGB(df.copy()))\n",
        "print(\"3\", fit_ARIMA(df.copy()))\n",
        "\n",
        "print(\"RESULT \", best_model.predict(feature_df)[0])\n",
        "\n",
        "#model_list[best_model.predict(feature_df)[0]](df.copy())"
      ],
      "metadata": {
        "colab": {
          "base_uri": "https://localhost:8080/"
        },
        "id": "WCa_5JbWGrNu",
        "outputId": "a4e7fa6f-745f-4b83-f89a-4bd781f576a8"
      },
      "execution_count": 32,
      "outputs": [
        {
          "output_type": "stream",
          "name": "stderr",
          "text": [
            "INFO:prophet:Disabling daily seasonality. Run prophet with daily_seasonality=True to override this.\n"
          ]
        },
        {
          "output_type": "stream",
          "name": "stdout",
          "text": [
            "   autocorr_score  outliers  stationarity_score  spectral_density_score  \\\n",
            "y        0.034909       NaN                 0.0            9.439851e+06   \n",
            "\n",
            "   noise_score        trend  residual  seasonality  \n",
            "y     2.490481  1011.057574 -0.005763     0.009562  \n"
          ]
        },
        {
          "output_type": "stream",
          "name": "stderr",
          "text": [
            "DEBUG:cmdstanpy:input tempfile: /tmp/tmp8x0yffbm/tg2omnfr.json\n",
            "DEBUG:cmdstanpy:input tempfile: /tmp/tmp8x0yffbm/oa37cziz.json\n",
            "DEBUG:cmdstanpy:idx 0\n",
            "DEBUG:cmdstanpy:running CmdStan, num_threads: None\n",
            "DEBUG:cmdstanpy:CmdStan args: ['/usr/local/lib/python3.9/dist-packages/prophet/stan_model/prophet_model.bin', 'random', 'seed=53039', 'data', 'file=/tmp/tmp8x0yffbm/tg2omnfr.json', 'init=/tmp/tmp8x0yffbm/oa37cziz.json', 'output', 'file=/tmp/tmp8x0yffbm/prophet_modelwz2kv_10/prophet_model-20230312162634.csv', 'method=optimize', 'algorithm=lbfgs', 'iter=10000']\n",
            "16:26:34 - cmdstanpy - INFO - Chain [1] start processing\n",
            "INFO:cmdstanpy:Chain [1] start processing\n",
            "16:26:35 - cmdstanpy - INFO - Chain [1] done processing\n",
            "INFO:cmdstanpy:Chain [1] done processing\n"
          ]
        },
        {
          "output_type": "stream",
          "name": "stdout",
          "text": [
            "0 5.149606320095143\n",
            "1 1.0197220243936045\n",
            "[16:26:37] WARNING: ../src/objective/regression_obj.cu:213: reg:linear is now deprecated in favor of reg:squarederror.\n",
            "2 143.43262791062503\n",
            "3 144.68202584836965\n",
            "RESULT  0\n"
          ]
        }
      ]
    },
    {
      "cell_type": "code",
      "source": [
        "# Save the model to a file using joblib\n",
        "joblib.dump(best_model, '/content/drive/MyDrive/MODELS/BestModel.pkl')"
      ],
      "metadata": {
        "id": "vj_oi2xTnzJq",
        "outputId": "b4e7b566-5092-4953-cb90-6445739e15a6",
        "colab": {
          "base_uri": "https://localhost:8080/"
        }
      },
      "execution_count": 33,
      "outputs": [
        {
          "output_type": "execute_result",
          "data": {
            "text/plain": [
              "['/content/drive/MyDrive/MODELS/BestModel.pkl']"
            ]
          },
          "metadata": {},
          "execution_count": 33
        }
      ]
    },
    {
      "cell_type": "code",
      "source": [
        "# Load the model from a file using joblib\n",
        "rf = joblib.load('/content/drive/MyDrive/MODELS/BestModel.pkl')\n",
        "\n",
        "# Use the loaded model to make predictions\n",
        "y_pred = rf.predict(feature_df)"
      ],
      "metadata": {
        "id": "w6eMlIWBons5"
      },
      "execution_count": 34,
      "outputs": []
    },
    {
      "cell_type": "code",
      "source": [
        "y_pred"
      ],
      "metadata": {
        "id": "xb_sWsoOo53W",
        "outputId": "8a6587f7-49e0-449d-9a7a-e49837684374",
        "colab": {
          "base_uri": "https://localhost:8080/"
        }
      },
      "execution_count": 35,
      "outputs": [
        {
          "output_type": "execute_result",
          "data": {
            "text/plain": [
              "array([0])"
            ]
          },
          "metadata": {},
          "execution_count": 35
        }
      ]
    }
  ]
}